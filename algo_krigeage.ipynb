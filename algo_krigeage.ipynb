{
 "cells": [
  {
   "cell_type": "markdown",
   "id": "bbe43e46",
   "metadata": {},
   "source": [
    "# Algorithme de Krigeage"
   ]
  },
  {
   "cell_type": "code",
   "execution_count": 1,
   "id": "1e26f3f2",
   "metadata": {},
   "outputs": [],
   "source": [
    "# Importations\n",
    "import openturns as ot\n",
    "import openturns.viewer as viewer\n",
    "import numpy as np\n",
    "import matplotlib.pyplot as plt\n",
    "import pandas as pd"
   ]
  },
  {
   "cell_type": "markdown",
   "id": "4adc5422",
   "metadata": {},
   "source": [
    "## Principe du Krigeage"
   ]
  },
  {
   "cell_type": "markdown",
   "id": "d1fdf59d",
   "metadata": {},
   "source": [
    "**Définitions**\n",
    "* L'**interpolation** désigne l'action d'intercaler dans une série de valeurs connues des valeurs intermédiaires.\n",
    "\n",
    "* Quelque chose de **stochastique** est quelque chose qui est le produit du hasard.\n",
    "\n",
    "* Le **Krigeage** est une méthode stochastique d'interpolation spatiale qui prévoit la valeur d'un phénomène en des lieux non échantillonés et à variance minimale.\n",
    "\n",
    "* Les **instances** d'une classe sont les éléments de cette classe.\n",
    "\n",
    "* Un **métamodèle** est un modèle dont les instances sont des modèles. C'est un type particulier de modèle, il regroupe une classe de modèles."
   ]
  },
  {
   "cell_type": "markdown",
   "id": "1d48db59",
   "metadata": {},
   "source": [
    "**Traductions utiles**\n",
    "\n",
    "* Le *sample* est l'échantillon."
   ]
  },
  {
   "cell_type": "markdown",
   "id": "ee6a074f",
   "metadata": {},
   "source": [
    "**Pourquoi fait-on cela ?**\n",
    "\n",
    "* Pour prédire l'évolution des $\\epsilon_{i,j}^{(n)}$. On construit pour cela un méta-modèle par famille de courbes."
   ]
  },
  {
   "cell_type": "markdown",
   "id": "bbe8bf52",
   "metadata": {},
   "source": [
    "## Présentation de la méthode de Krigeage"
   ]
  },
  {
   "cell_type": "markdown",
   "id": "9e90cac5",
   "metadata": {},
   "source": [
    "**Paramètres**\n",
    "\n",
    "* `inputSample` et `outputSample` : les points de la courbe qui sert de modèle. On peut utiliser des vecteurs :\n",
    "$$\n",
    "(x_i)_{1 \\leq i \\leq N} \\in (\\mathbb{R}^d)^N, (y_i)_{1 \\leq i \\leq N} \\in (\\mathbb{R}^p)^N\n",
    "$$\n",
    "* `covarianceModel` : le modèle de covariance utilisé pour décrire la gaussienne.\n",
    "* `Basis` : $(\\phi_i)_{1\\leq i\\leq n_1}$ famille libre de fonctions de $\\mathbb{R}^d \\rightarrow \\mathbb{R}^p$ dans laquelle on peut décomposer la fonction $\\mu$ et ainsi estimer $y = \\mathbb{M}(x)$.\n",
    "* `BasisCollection` $p$ bases de fonctions si l'on souhaite changer selon la coordonnée de $y$ sur laquelle on travaille."
   ]
  },
  {
   "cell_type": "markdown",
   "id": "2fbe2027",
   "metadata": {},
   "source": [
    "**Gaussian process**\n",
    "\n",
    "$$ Y(\\omega, x) = \\mu(x) + W(\\omega, x)$$\n",
    "\n",
    "avec :\n",
    "* $\\mu \\in \\mathbb{R}^p$ telle que $\\mu^{(j)}(x) = \\sum_{i=0}^n \\beta_i^{(j)} \\phi_i^{(j)}(x)  $\n",
    "* $W \\in \\mathbb{R}^p$ un Gaussian process centré, de fonction de covariance $C$ (teaser...)"
   ]
  },
  {
   "cell_type": "markdown",
   "id": "4f7035b0",
   "metadata": {},
   "source": [
    "**Fonction de covariance**\n",
    "\n",
    "$$ C : (\\theta, \\sigma, R, \\lambda) \\rightarrow C(\\theta, \\sigma, R, \\lambda) $$"
   ]
  },
  {
   "cell_type": "markdown",
   "id": "0b546e62",
   "metadata": {},
   "source": [
    "## Programmation"
   ]
  },
  {
   "cell_type": "markdown",
   "id": "4cd7ec22",
   "metadata": {},
   "source": [
    "Création du modèle $\\mathbb{M}$ et de l'échantillon."
   ]
  },
  {
   "cell_type": "code",
   "execution_count": 2,
   "id": "d5c8d13b",
   "metadata": {},
   "outputs": [],
   "source": [
    "f = ot.SymbolicFunction(['x'], ['x * sin(x)'])\n",
    "sampleX = np.arange(10).reshape((10,1))\n",
    "sampleY = f(sampleX)"
   ]
  },
  {
   "cell_type": "markdown",
   "id": "2183744e",
   "metadata": {},
   "source": [
    "Création de l'algorithme"
   ]
  },
  {
   "cell_type": "code",
   "execution_count": 3,
   "id": "d8d23c12",
   "metadata": {},
   "outputs": [],
   "source": [
    "basis = ot.Basis([ot.SymbolicFunction(['x'], ['x']), ot.SymbolicFunction(['x'], ['x^2'])])\n",
    "covarianceModel = ot.SquaredExponential([1.0])\n",
    "covarianceModel.setActiveParameter([])\n",
    "algo = ot.KrigingAlgorithm(sampleX, sampleY, covarianceModel, basis)\n",
    "algo.run()"
   ]
  },
  {
   "cell_type": "markdown",
   "id": "139d8b47",
   "metadata": {},
   "source": [
    "Obtention du métamodèle"
   ]
  },
  {
   "cell_type": "code",
   "execution_count": 4,
   "id": "38b4a403",
   "metadata": {},
   "outputs": [],
   "source": [
    "result = algo.getResult()\n",
    "metamodel = result.getMetaModel()"
   ]
  },
  {
   "cell_type": "markdown",
   "id": "83c457b1",
   "metadata": {},
   "source": [
    "## Application à un exemple et tracés"
   ]
  },
  {
   "cell_type": "code",
   "execution_count": 5,
   "id": "f48a97cd",
   "metadata": {},
   "outputs": [],
   "source": [
    "ot.Log.Show(ot.Log.NONE)"
   ]
  },
  {
   "cell_type": "markdown",
   "id": "faa9265f",
   "metadata": {},
   "source": [
    "Fonction dont on veut créer un méta-modèle"
   ]
  },
  {
   "cell_type": "code",
   "execution_count": 6,
   "id": "e4727137",
   "metadata": {},
   "outputs": [],
   "source": [
    "g = ot.SymbolicFunction(['x'], ['sin(x)'])"
   ]
  },
  {
   "cell_type": "markdown",
   "id": "253a6a52",
   "metadata": {},
   "source": [
    "Création de l'échantillon"
   ]
  },
  {
   "cell_type": "code",
   "execution_count": 7,
   "id": "1e6c1e12",
   "metadata": {},
   "outputs": [
    {
     "data": {
      "text/plain": [
       "7"
      ]
     },
     "execution_count": 7,
     "metadata": {},
     "output_type": "execute_result"
    }
   ],
   "source": [
    "x_train = ot.Sample([[x] for x in [1.,3.,4.,6.,7.9,11., 11.5]])\n",
    "y_train = g(x_train)\n",
    "n_train = x_train.getSize()\n",
    "n_train"
   ]
  },
  {
   "cell_type": "markdown",
   "id": "faffcf9a",
   "metadata": {},
   "source": [
    "On teste le métamodèle sur des points aléatoires où le modèle est défini."
   ]
  },
  {
   "cell_type": "code",
   "execution_count": 8,
   "id": "e061aa04",
   "metadata": {},
   "outputs": [],
   "source": [
    "xmin = 0.\n",
    "xmax = 12.\n",
    "n_test = 100\n",
    "step = (xmax-xmin)/(n_test-1)\n",
    "myRegularGrid = ot.RegularGrid(xmin, step, n_test)\n",
    "x_test_coord = myRegularGrid.getValues()\n",
    "x_test = ot.Sample([[x] for x in x_test_coord])\n",
    "y_test = g(x_test)"
   ]
  },
  {
   "cell_type": "markdown",
   "id": "6f70559e",
   "metadata": {},
   "source": [
    "Le code suivant ploat la fonction et son métamodèle."
   ]
  },
  {
   "cell_type": "code",
   "execution_count": 9,
   "id": "a5ffbc89",
   "metadata": {},
   "outputs": [],
   "source": [
    "def plot_data_train(x_train,y_train):\n",
    "    '''Plot the data (x_train,y_train) as a Cloud, in red'''\n",
    "    graph_train = ot.Cloud(x_train,y_train)\n",
    "    graph_train.setColor(\"red\")\n",
    "    graph_train.setLegend(\"Data\")\n",
    "    return graph_train"
   ]
  },
  {
   "cell_type": "code",
   "execution_count": 10,
   "id": "88e778a8",
   "metadata": {},
   "outputs": [],
   "source": [
    "def plot_data_test(x_test,y_test):\n",
    "    '''Plot the data (x_test,y_test) as a Curve, in dashed black'''\n",
    "    graphF = ot.Curve(x_test,y_test)\n",
    "    graphF.setLegend(\"Exact\")\n",
    "    graphF.setColor(\"black\")\n",
    "    graphF.setLineStyle(\"dashed\")\n",
    "    return graphF"
   ]
  },
  {
   "cell_type": "code",
   "execution_count": 11,
   "id": "44d8a01b",
   "metadata": {
    "scrolled": true
   },
   "outputs": [
    {
     "data": {
      "image/png": "[encoded data removed]",
      "text/plain": [
       "<Figure size 640x480 with 1 Axes>"
      ]
     },
     "metadata": {},
     "output_type": "display_data"
    }
   ],
   "source": [
    "graph = ot.Graph()\n",
    "graph.add(plot_data_test(x_test,y_test))\n",
    "graph.add(plot_data_train(x_train,y_train))\n",
    "graph.setAxes(True)\n",
    "graph.setXTitle(\"X\")\n",
    "graph.setYTitle(\"Y\")\n",
    "graph.setLegendPosition(\"topright\")\n",
    "view = viewer.View(graph)"
   ]
  },
  {
   "cell_type": "code",
   "execution_count": 12,
   "id": "0d675562",
   "metadata": {},
   "outputs": [
    {
     "data": {
      "text/html": [
       "<p>KrigingResult(covariance models=MaternModel(scale=[1.27453], amplitude=[0.822263], nu=1.5), covariance coefficients=0 : [  1.13904    ]<br>\n",
       "1 : [  1.01762    ]<br>\n",
       "2 : [ -1.76279    ]<br>\n",
       "3 : [ -0.559148   ]<br>\n",
       "4 : [  1.78757    ]<br>\n",
       "5 : [ -1.61946    ]<br>\n",
       "6 : [ -0.00283269 ], basis=[Basis( [class=LinearEvaluation name=Unnamed center=[0] constant=[1] linear=[[ 0 ]]] )], trend coefficients=[[0.00736751]])</p>"
      ],
      "text/plain": [
       "class=KrigingResult, basis=[class=Basis coll=[class=Function name=Unnamed implementation=class=FunctionImplementation name=Unnamed description=[x0,y0] evaluationImplementation=class=LinearEvaluation name=Unnamed center=class=Point name=Unnamed dimension=1 values=[0] constant=class=Point name=Unnamed dimension=1 values=[1] linear=class=Matrix implementation=class=MatrixImplementation name=Unnamed rows=1 columns=1 values=[0] gradientImplementation=class=ConstantGradient name=Unnamed constant=class=Matrix implementation=class=MatrixImplementation name=Unnamed rows=1 columns=1 values=[0] hessianImplementation=class=NullHessian name=Unnamed inputDimension=1 outputDimension=1]], trend coefficients=[class=Point name=Unnamed dimension=1 values=[0.00736751]], covariance models=class=MaternModel scale=class=Point name=Unnamed dimension=1 values=[1.27453] amplitude=class=Point name=Unnamed dimension=1 values=[0.822263] nu=1.5, covariance coefficients=class=Sample name=Unnamed implementation=class=SampleImplementation name=Unnamed size=7 dimension=1 data=[[1.13904],[1.01762],[-1.76279],[-0.559148],[1.78757],[-1.61946],[-0.00283269]]"
      ]
     },
     "execution_count": 12,
     "metadata": {},
     "output_type": "execute_result"
    }
   ],
   "source": [
    "dimension = 1\n",
    "basis = ot.ConstantBasisFactory(dimension).build()\n",
    "covarianceModel = ot.MaternModel([1.]*dimension, 1.5)\n",
    "algo = ot.KrigingAlgorithm(x_train, y_train, covarianceModel, basis)\n",
    "algo.run()\n",
    "krigingResult = algo.getResult()\n",
    "krigingResult"
   ]
  },
  {
   "cell_type": "code",
   "execution_count": 13,
   "id": "9b020180",
   "metadata": {},
   "outputs": [],
   "source": [
    "krigeageMM = krigingResult.getMetaModel()\n",
    "y_test_MM = krigeageMM(x_test)"
   ]
  },
  {
   "cell_type": "code",
   "execution_count": 14,
   "id": "1d44becd",
   "metadata": {},
   "outputs": [],
   "source": [
    "def plot_data_kriging(x_test,y_test_MM):\n",
    "    '''Plots (x_test,y_test_MM) from the metamodel as a Curve, in blue'''\n",
    "    graphK = ot.Curve(x_test,y_test_MM)\n",
    "    graphK.setColor(\"blue\")\n",
    "    graphK.setLegend(\"Kriging\")\n",
    "    return graphK"
   ]
  },
  {
   "cell_type": "code",
   "execution_count": 15,
   "id": "2998c316",
   "metadata": {
    "scrolled": true
   },
   "outputs": [
    {
     "data": {
      "image/png": "[encoded data removed]",
      "text/plain": [
       "<Figure size 640x480 with 1 Axes>"
      ]
     },
     "metadata": {},
     "output_type": "display_data"
    }
   ],
   "source": [
    "graph = ot.Graph()\n",
    "graph.add(plot_data_test(x_test,y_test))\n",
    "graph.add(plot_data_train(x_train,y_train))\n",
    "graph.add(plot_data_kriging(x_test,y_test_MM))\n",
    "graph.setAxes(True)\n",
    "graph.setXTitle(\"X\")\n",
    "graph.setYTitle(\"Y\")\n",
    "graph.setLegendPosition(\"topright\")\n",
    "view = viewer.View(graph)"
   ]
  },
  {
   "cell_type": "markdown",
   "id": "6c6623d2",
   "metadata": {},
   "source": [
    "##  Retour à l'étude de la barrière thermique"
   ]
  },
  {
   "cell_type": "markdown",
   "id": "2c8fe103",
   "metadata": {},
   "source": [
    "On importe les données, stockées dans un fichier csv."
   ]
  },
  {
   "cell_type": "code",
   "execution_count": 16,
   "id": "314b21e5",
   "metadata": {},
   "outputs": [
    {
     "data": {
      "text/html": [
       "<div>\n",
       "<style scoped>\n",
       "    .dataframe tbody tr th:only-of-type {\n",
       "        vertical-align: middle;\n",
       "    }\n",
       "\n",
       "    .dataframe tbody tr th {\n",
       "        vertical-align: top;\n",
       "    }\n",
       "\n",
       "    .dataframe thead th {\n",
       "        text-align: right;\n",
       "    }\n",
       "</style>\n",
       "<table border=\"1\" class=\"dataframe\">\n",
       "  <thead>\n",
       "    <tr style=\"text-align: right;\">\n",
       "      <th></th>\n",
       "      <th>Unnamed: 0</th>\n",
       "      <th>30.0</th>\n",
       "      <th>60.0</th>\n",
       "      <th>90.0</th>\n",
       "      <th>120.0</th>\n",
       "      <th>150.0</th>\n",
       "      <th>180.0</th>\n",
       "      <th>210.0</th>\n",
       "      <th>240.0</th>\n",
       "      <th>270.0</th>\n",
       "      <th>...</th>\n",
       "      <th>1230.0</th>\n",
       "      <th>1830.0</th>\n",
       "      <th>2430.0</th>\n",
       "      <th>3030.0</th>\n",
       "      <th>3630.0</th>\n",
       "      <th>3690.0</th>\n",
       "      <th>3750.0</th>\n",
       "      <th>3810.0</th>\n",
       "      <th>3870.0</th>\n",
       "      <th>3930.0</th>\n",
       "    </tr>\n",
       "  </thead>\n",
       "  <tbody>\n",
       "    <tr>\n",
       "      <th>0</th>\n",
       "      <td>0</td>\n",
       "      <td>0.001162</td>\n",
       "      <td>0.002446</td>\n",
       "      <td>0.003696</td>\n",
       "      <td>0.005015</td>\n",
       "      <td>0.006398</td>\n",
       "      <td>0.007906</td>\n",
       "      <td>0.009497</td>\n",
       "      <td>0.011183</td>\n",
       "      <td>0.013074</td>\n",
       "      <td>...</td>\n",
       "      <td>0.012954</td>\n",
       "      <td>0.012953</td>\n",
       "      <td>0.012953</td>\n",
       "      <td>0.012953</td>\n",
       "      <td>0.012872</td>\n",
       "      <td>0.009666</td>\n",
       "      <td>0.006887</td>\n",
       "      <td>0.004577</td>\n",
       "      <td>0.002470</td>\n",
       "      <td>0.000611</td>\n",
       "    </tr>\n",
       "    <tr>\n",
       "      <th>1</th>\n",
       "      <td>1</td>\n",
       "      <td>0.002138</td>\n",
       "      <td>0.004587</td>\n",
       "      <td>0.006571</td>\n",
       "      <td>0.008475</td>\n",
       "      <td>0.010502</td>\n",
       "      <td>0.012448</td>\n",
       "      <td>0.014407</td>\n",
       "      <td>0.016441</td>\n",
       "      <td>0.018731</td>\n",
       "      <td>...</td>\n",
       "      <td>0.016596</td>\n",
       "      <td>0.016596</td>\n",
       "      <td>0.016595</td>\n",
       "      <td>0.016588</td>\n",
       "      <td>0.015602</td>\n",
       "      <td>0.010599</td>\n",
       "      <td>0.007079</td>\n",
       "      <td>0.005450</td>\n",
       "      <td>0.004471</td>\n",
       "      <td>0.002728</td>\n",
       "    </tr>\n",
       "    <tr>\n",
       "      <th>2</th>\n",
       "      <td>2</td>\n",
       "      <td>0.002137</td>\n",
       "      <td>0.004567</td>\n",
       "      <td>0.006154</td>\n",
       "      <td>0.008793</td>\n",
       "      <td>0.011917</td>\n",
       "      <td>0.016029</td>\n",
       "      <td>0.020296</td>\n",
       "      <td>0.024558</td>\n",
       "      <td>0.029593</td>\n",
       "      <td>...</td>\n",
       "      <td>0.033868</td>\n",
       "      <td>0.033772</td>\n",
       "      <td>0.033619</td>\n",
       "      <td>0.033180</td>\n",
       "      <td>0.031944</td>\n",
       "      <td>0.029700</td>\n",
       "      <td>0.023601</td>\n",
       "      <td>0.018639</td>\n",
       "      <td>0.013999</td>\n",
       "      <td>0.009233</td>\n",
       "    </tr>\n",
       "    <tr>\n",
       "      <th>3</th>\n",
       "      <td>3</td>\n",
       "      <td>0.001581</td>\n",
       "      <td>0.003401</td>\n",
       "      <td>0.004997</td>\n",
       "      <td>0.006474</td>\n",
       "      <td>0.008071</td>\n",
       "      <td>0.009671</td>\n",
       "      <td>0.011282</td>\n",
       "      <td>0.012975</td>\n",
       "      <td>0.014744</td>\n",
       "      <td>...</td>\n",
       "      <td>0.013313</td>\n",
       "      <td>0.013312</td>\n",
       "      <td>0.013312</td>\n",
       "      <td>0.013305</td>\n",
       "      <td>0.012892</td>\n",
       "      <td>0.009273</td>\n",
       "      <td>0.007533</td>\n",
       "      <td>0.006406</td>\n",
       "      <td>0.005317</td>\n",
       "      <td>0.003947</td>\n",
       "    </tr>\n",
       "    <tr>\n",
       "      <th>4</th>\n",
       "      <td>4</td>\n",
       "      <td>0.001005</td>\n",
       "      <td>0.002130</td>\n",
       "      <td>0.003184</td>\n",
       "      <td>0.004343</td>\n",
       "      <td>0.005578</td>\n",
       "      <td>0.006919</td>\n",
       "      <td>0.008362</td>\n",
       "      <td>0.009886</td>\n",
       "      <td>0.011570</td>\n",
       "      <td>...</td>\n",
       "      <td>0.011807</td>\n",
       "      <td>0.011801</td>\n",
       "      <td>0.011800</td>\n",
       "      <td>0.011798</td>\n",
       "      <td>0.011551</td>\n",
       "      <td>0.008989</td>\n",
       "      <td>0.006667</td>\n",
       "      <td>0.004686</td>\n",
       "      <td>0.002907</td>\n",
       "      <td>0.001317</td>\n",
       "    </tr>\n",
       "    <tr>\n",
       "      <th>5</th>\n",
       "      <td>5</td>\n",
       "      <td>0.001381</td>\n",
       "      <td>0.002721</td>\n",
       "      <td>0.004167</td>\n",
       "      <td>0.005686</td>\n",
       "      <td>0.007194</td>\n",
       "      <td>0.008799</td>\n",
       "      <td>0.010524</td>\n",
       "      <td>0.012411</td>\n",
       "      <td>0.014530</td>\n",
       "      <td>...</td>\n",
       "      <td>0.014472</td>\n",
       "      <td>0.014460</td>\n",
       "      <td>0.014459</td>\n",
       "      <td>0.014448</td>\n",
       "      <td>0.013919</td>\n",
       "      <td>0.010402</td>\n",
       "      <td>0.007384</td>\n",
       "      <td>0.005103</td>\n",
       "      <td>0.003139</td>\n",
       "      <td>0.001680</td>\n",
       "    </tr>\n",
       "    <tr>\n",
       "      <th>6</th>\n",
       "      <td>6</td>\n",
       "      <td>0.001971</td>\n",
       "      <td>0.004096</td>\n",
       "      <td>0.005487</td>\n",
       "      <td>0.007681</td>\n",
       "      <td>0.009888</td>\n",
       "      <td>0.011819</td>\n",
       "      <td>0.013897</td>\n",
       "      <td>0.016384</td>\n",
       "      <td>0.019273</td>\n",
       "      <td>...</td>\n",
       "      <td>0.018942</td>\n",
       "      <td>0.018844</td>\n",
       "      <td>0.018810</td>\n",
       "      <td>0.018706</td>\n",
       "      <td>0.017766</td>\n",
       "      <td>0.014718</td>\n",
       "      <td>0.011564</td>\n",
       "      <td>0.009216</td>\n",
       "      <td>0.007842</td>\n",
       "      <td>0.006447</td>\n",
       "    </tr>\n",
       "    <tr>\n",
       "      <th>7</th>\n",
       "      <td>7</td>\n",
       "      <td>0.002406</td>\n",
       "      <td>0.005184</td>\n",
       "      <td>0.007807</td>\n",
       "      <td>0.009977</td>\n",
       "      <td>0.011693</td>\n",
       "      <td>0.014049</td>\n",
       "      <td>0.016573</td>\n",
       "      <td>0.019337</td>\n",
       "      <td>0.022359</td>\n",
       "      <td>...</td>\n",
       "      <td>0.021701</td>\n",
       "      <td>0.021701</td>\n",
       "      <td>0.021701</td>\n",
       "      <td>0.021698</td>\n",
       "      <td>0.020109</td>\n",
       "      <td>0.014898</td>\n",
       "      <td>0.010204</td>\n",
       "      <td>0.006735</td>\n",
       "      <td>0.004740</td>\n",
       "      <td>0.002937</td>\n",
       "    </tr>\n",
       "    <tr>\n",
       "      <th>8</th>\n",
       "      <td>8</td>\n",
       "      <td>0.001941</td>\n",
       "      <td>0.003707</td>\n",
       "      <td>0.005887</td>\n",
       "      <td>0.008193</td>\n",
       "      <td>0.010741</td>\n",
       "      <td>0.013524</td>\n",
       "      <td>0.016319</td>\n",
       "      <td>0.019417</td>\n",
       "      <td>0.023172</td>\n",
       "      <td>...</td>\n",
       "      <td>0.025228</td>\n",
       "      <td>0.025128</td>\n",
       "      <td>0.025003</td>\n",
       "      <td>0.024793</td>\n",
       "      <td>0.023751</td>\n",
       "      <td>0.020677</td>\n",
       "      <td>0.016273</td>\n",
       "      <td>0.012979</td>\n",
       "      <td>0.010462</td>\n",
       "      <td>0.007453</td>\n",
       "    </tr>\n",
       "    <tr>\n",
       "      <th>9</th>\n",
       "      <td>9</td>\n",
       "      <td>0.001115</td>\n",
       "      <td>0.002363</td>\n",
       "      <td>0.003559</td>\n",
       "      <td>0.004817</td>\n",
       "      <td>0.006136</td>\n",
       "      <td>0.007564</td>\n",
       "      <td>0.009077</td>\n",
       "      <td>0.010675</td>\n",
       "      <td>0.012433</td>\n",
       "      <td>...</td>\n",
       "      <td>0.012366</td>\n",
       "      <td>0.012366</td>\n",
       "      <td>0.012366</td>\n",
       "      <td>0.012365</td>\n",
       "      <td>0.012176</td>\n",
       "      <td>0.009269</td>\n",
       "      <td>0.006693</td>\n",
       "      <td>0.004507</td>\n",
       "      <td>0.002514</td>\n",
       "      <td>0.000723</td>\n",
       "    </tr>\n",
       "  </tbody>\n",
       "</table>\n",
       "<p>10 rows × 29 columns</p>\n",
       "</div>"
      ],
      "text/plain": [
       "   Unnamed: 0      30.0      60.0      90.0     120.0     150.0     180.0  \\\n",
       "0           0  0.001162  0.002446  0.003696  0.005015  0.006398  0.007906   \n",
       "1           1  0.002138  0.004587  0.006571  0.008475  0.010502  0.012448   \n",
       "2           2  0.002137  0.004567  0.006154  0.008793  0.011917  0.016029   \n",
       "3           3  0.001581  0.003401  0.004997  0.006474  0.008071  0.009671   \n",
       "4           4  0.001005  0.002130  0.003184  0.004343  0.005578  0.006919   \n",
       "5           5  0.001381  0.002721  0.004167  0.005686  0.007194  0.008799   \n",
       "6           6  0.001971  0.004096  0.005487  0.007681  0.009888  0.011819   \n",
       "7           7  0.002406  0.005184  0.007807  0.009977  0.011693  0.014049   \n",
       "8           8  0.001941  0.003707  0.005887  0.008193  0.010741  0.013524   \n",
       "9           9  0.001115  0.002363  0.003559  0.004817  0.006136  0.007564   \n",
       "\n",
       "      210.0     240.0     270.0  ...    1230.0    1830.0    2430.0    3030.0  \\\n",
       "0  0.009497  0.011183  0.013074  ...  0.012954  0.012953  0.012953  0.012953   \n",
       "1  0.014407  0.016441  0.018731  ...  0.016596  0.016596  0.016595  0.016588   \n",
       "2  0.020296  0.024558  0.029593  ...  0.033868  0.033772  0.033619  0.033180   \n",
       "3  0.011282  0.012975  0.014744  ...  0.013313  0.013312  0.013312  0.013305   \n",
       "4  0.008362  0.009886  0.011570  ...  0.011807  0.011801  0.011800  0.011798   \n",
       "5  0.010524  0.012411  0.014530  ...  0.014472  0.014460  0.014459  0.014448   \n",
       "6  0.013897  0.016384  0.019273  ...  0.018942  0.018844  0.018810  0.018706   \n",
       "7  0.016573  0.019337  0.022359  ...  0.021701  0.021701  0.021701  0.021698   \n",
       "8  0.016319  0.019417  0.023172  ...  0.025228  0.025128  0.025003  0.024793   \n",
       "9  0.009077  0.010675  0.012433  ...  0.012366  0.012366  0.012366  0.012365   \n",
       "\n",
       "     3630.0    3690.0    3750.0    3810.0    3870.0    3930.0  \n",
       "0  0.012872  0.009666  0.006887  0.004577  0.002470  0.000611  \n",
       "1  0.015602  0.010599  0.007079  0.005450  0.004471  0.002728  \n",
       "2  0.031944  0.029700  0.023601  0.018639  0.013999  0.009233  \n",
       "3  0.012892  0.009273  0.007533  0.006406  0.005317  0.003947  \n",
       "4  0.011551  0.008989  0.006667  0.004686  0.002907  0.001317  \n",
       "5  0.013919  0.010402  0.007384  0.005103  0.003139  0.001680  \n",
       "6  0.017766  0.014718  0.011564  0.009216  0.007842  0.006447  \n",
       "7  0.020109  0.014898  0.010204  0.006735  0.004740  0.002937  \n",
       "8  0.023751  0.020677  0.016273  0.012979  0.010462  0.007453  \n",
       "9  0.012176  0.009269  0.006693  0.004507  0.002514  0.000723  \n",
       "\n",
       "[10 rows x 29 columns]"
      ]
     },
     "execution_count": 16,
     "metadata": {},
     "output_type": "execute_result"
    }
   ],
   "source": [
    "df = pd.read_csv(\"repres_classe_10.csv\")\n",
    "df"
   ]
  },
  {
   "cell_type": "markdown",
   "id": "cdff0f10",
   "metadata": {},
   "source": [
    "Les 10 lignes représentent les 10 classes et les 29 colonnes représentent les modèles associées aux modèles de chaque classe.\n",
    "**Attention : la première colonne est la classe représentée, les suivantes sont les timeseries associées**"
   ]
  },
  {
   "cell_type": "code",
   "execution_count": 17,
   "id": "bf34bdd3",
   "metadata": {
    "scrolled": true
   },
   "outputs": [
    {
     "data": {
      "text/html": [
       "<div>\n",
       "<style scoped>\n",
       "    .dataframe tbody tr th:only-of-type {\n",
       "        vertical-align: middle;\n",
       "    }\n",
       "\n",
       "    .dataframe tbody tr th {\n",
       "        vertical-align: top;\n",
       "    }\n",
       "\n",
       "    .dataframe thead th {\n",
       "        text-align: right;\n",
       "    }\n",
       "</style>\n",
       "<table border=\"1\" class=\"dataframe\">\n",
       "  <thead>\n",
       "    <tr style=\"text-align: right;\">\n",
       "      <th></th>\n",
       "      <th>Unnamed: 0</th>\n",
       "      <th>30.0</th>\n",
       "      <th>60.0</th>\n",
       "      <th>90.0</th>\n",
       "      <th>120.0</th>\n",
       "      <th>150.0</th>\n",
       "      <th>180.0</th>\n",
       "      <th>210.0</th>\n",
       "      <th>240.0</th>\n",
       "      <th>270.0</th>\n",
       "      <th>...</th>\n",
       "      <th>1230.0</th>\n",
       "      <th>1830.0</th>\n",
       "      <th>2430.0</th>\n",
       "      <th>3030.0</th>\n",
       "      <th>3630.0</th>\n",
       "      <th>3690.0</th>\n",
       "      <th>3750.0</th>\n",
       "      <th>3810.0</th>\n",
       "      <th>3870.0</th>\n",
       "      <th>3930.0</th>\n",
       "    </tr>\n",
       "  </thead>\n",
       "  <tbody>\n",
       "    <tr>\n",
       "      <th>0</th>\n",
       "      <td>0</td>\n",
       "      <td>0.001180</td>\n",
       "      <td>0.002475</td>\n",
       "      <td>0.003732</td>\n",
       "      <td>0.005067</td>\n",
       "      <td>0.006474</td>\n",
       "      <td>0.008011</td>\n",
       "      <td>0.009634</td>\n",
       "      <td>0.011360</td>\n",
       "      <td>0.013311</td>\n",
       "      <td>...</td>\n",
       "      <td>0.013199</td>\n",
       "      <td>0.013203</td>\n",
       "      <td>0.013203</td>\n",
       "      <td>0.013203</td>\n",
       "      <td>0.013203</td>\n",
       "      <td>0.009838</td>\n",
       "      <td>0.006967</td>\n",
       "      <td>0.004522</td>\n",
       "      <td>0.002332</td>\n",
       "      <td>0.000241</td>\n",
       "    </tr>\n",
       "    <tr>\n",
       "      <th>1</th>\n",
       "      <td>1</td>\n",
       "      <td>0.001930</td>\n",
       "      <td>0.003637</td>\n",
       "      <td>0.005577</td>\n",
       "      <td>0.007839</td>\n",
       "      <td>0.010149</td>\n",
       "      <td>0.012145</td>\n",
       "      <td>0.014266</td>\n",
       "      <td>0.016946</td>\n",
       "      <td>0.019981</td>\n",
       "      <td>...</td>\n",
       "      <td>0.020641</td>\n",
       "      <td>0.020558</td>\n",
       "      <td>0.020526</td>\n",
       "      <td>0.020388</td>\n",
       "      <td>0.019448</td>\n",
       "      <td>0.017265</td>\n",
       "      <td>0.012739</td>\n",
       "      <td>0.010615</td>\n",
       "      <td>0.008349</td>\n",
       "      <td>0.006868</td>\n",
       "    </tr>\n",
       "    <tr>\n",
       "      <th>2</th>\n",
       "      <td>2</td>\n",
       "      <td>0.002063</td>\n",
       "      <td>0.004446</td>\n",
       "      <td>0.005905</td>\n",
       "      <td>0.008399</td>\n",
       "      <td>0.011094</td>\n",
       "      <td>0.014704</td>\n",
       "      <td>0.018717</td>\n",
       "      <td>0.022571</td>\n",
       "      <td>0.027053</td>\n",
       "      <td>...</td>\n",
       "      <td>0.031012</td>\n",
       "      <td>0.030823</td>\n",
       "      <td>0.030760</td>\n",
       "      <td>0.030625</td>\n",
       "      <td>0.029277</td>\n",
       "      <td>0.026447</td>\n",
       "      <td>0.021385</td>\n",
       "      <td>0.016768</td>\n",
       "      <td>0.012894</td>\n",
       "      <td>0.008753</td>\n",
       "    </tr>\n",
       "    <tr>\n",
       "      <th>3</th>\n",
       "      <td>3</td>\n",
       "      <td>0.001014</td>\n",
       "      <td>0.002155</td>\n",
       "      <td>0.003261</td>\n",
       "      <td>0.004427</td>\n",
       "      <td>0.005666</td>\n",
       "      <td>0.007017</td>\n",
       "      <td>0.008467</td>\n",
       "      <td>0.010001</td>\n",
       "      <td>0.011696</td>\n",
       "      <td>...</td>\n",
       "      <td>0.011872</td>\n",
       "      <td>0.011867</td>\n",
       "      <td>0.011866</td>\n",
       "      <td>0.011864</td>\n",
       "      <td>0.011603</td>\n",
       "      <td>0.009033</td>\n",
       "      <td>0.006666</td>\n",
       "      <td>0.004653</td>\n",
       "      <td>0.002842</td>\n",
       "      <td>0.001199</td>\n",
       "    </tr>\n",
       "    <tr>\n",
       "      <th>4</th>\n",
       "      <td>4</td>\n",
       "      <td>0.001603</td>\n",
       "      <td>0.003355</td>\n",
       "      <td>0.004735</td>\n",
       "      <td>0.006537</td>\n",
       "      <td>0.008299</td>\n",
       "      <td>0.010049</td>\n",
       "      <td>0.011753</td>\n",
       "      <td>0.013585</td>\n",
       "      <td>0.015749</td>\n",
       "      <td>...</td>\n",
       "      <td>0.015484</td>\n",
       "      <td>0.015484</td>\n",
       "      <td>0.015484</td>\n",
       "      <td>0.015477</td>\n",
       "      <td>0.014821</td>\n",
       "      <td>0.010872</td>\n",
       "      <td>0.007893</td>\n",
       "      <td>0.005665</td>\n",
       "      <td>0.004545</td>\n",
       "      <td>0.002371</td>\n",
       "    </tr>\n",
       "    <tr>\n",
       "      <th>5</th>\n",
       "      <td>5</td>\n",
       "      <td>0.001246</td>\n",
       "      <td>0.002651</td>\n",
       "      <td>0.003933</td>\n",
       "      <td>0.005278</td>\n",
       "      <td>0.006713</td>\n",
       "      <td>0.008212</td>\n",
       "      <td>0.009779</td>\n",
       "      <td>0.011456</td>\n",
       "      <td>0.013281</td>\n",
       "      <td>...</td>\n",
       "      <td>0.012931</td>\n",
       "      <td>0.012925</td>\n",
       "      <td>0.012925</td>\n",
       "      <td>0.012918</td>\n",
       "      <td>0.012547</td>\n",
       "      <td>0.009438</td>\n",
       "      <td>0.007129</td>\n",
       "      <td>0.005580</td>\n",
       "      <td>0.004066</td>\n",
       "      <td>0.002679</td>\n",
       "    </tr>\n",
       "    <tr>\n",
       "      <th>6</th>\n",
       "      <td>6</td>\n",
       "      <td>0.001117</td>\n",
       "      <td>0.002365</td>\n",
       "      <td>0.003574</td>\n",
       "      <td>0.004839</td>\n",
       "      <td>0.006160</td>\n",
       "      <td>0.007593</td>\n",
       "      <td>0.009112</td>\n",
       "      <td>0.010715</td>\n",
       "      <td>0.012475</td>\n",
       "      <td>...</td>\n",
       "      <td>0.012366</td>\n",
       "      <td>0.012366</td>\n",
       "      <td>0.012366</td>\n",
       "      <td>0.012366</td>\n",
       "      <td>0.012249</td>\n",
       "      <td>0.009287</td>\n",
       "      <td>0.006680</td>\n",
       "      <td>0.004468</td>\n",
       "      <td>0.002442</td>\n",
       "      <td>0.000516</td>\n",
       "    </tr>\n",
       "    <tr>\n",
       "      <th>7</th>\n",
       "      <td>7</td>\n",
       "      <td>0.001674</td>\n",
       "      <td>0.003608</td>\n",
       "      <td>0.005354</td>\n",
       "      <td>0.006855</td>\n",
       "      <td>0.008399</td>\n",
       "      <td>0.010020</td>\n",
       "      <td>0.011622</td>\n",
       "      <td>0.013322</td>\n",
       "      <td>0.015162</td>\n",
       "      <td>...</td>\n",
       "      <td>0.013911</td>\n",
       "      <td>0.013911</td>\n",
       "      <td>0.013911</td>\n",
       "      <td>0.013906</td>\n",
       "      <td>0.013324</td>\n",
       "      <td>0.009488</td>\n",
       "      <td>0.007518</td>\n",
       "      <td>0.006469</td>\n",
       "      <td>0.005394</td>\n",
       "      <td>0.004007</td>\n",
       "    </tr>\n",
       "    <tr>\n",
       "      <th>8</th>\n",
       "      <td>8</td>\n",
       "      <td>0.001970</td>\n",
       "      <td>0.003875</td>\n",
       "      <td>0.005889</td>\n",
       "      <td>0.008196</td>\n",
       "      <td>0.010734</td>\n",
       "      <td>0.013626</td>\n",
       "      <td>0.016457</td>\n",
       "      <td>0.019658</td>\n",
       "      <td>0.023245</td>\n",
       "      <td>...</td>\n",
       "      <td>0.026342</td>\n",
       "      <td>0.026230</td>\n",
       "      <td>0.026190</td>\n",
       "      <td>0.026116</td>\n",
       "      <td>0.024953</td>\n",
       "      <td>0.020883</td>\n",
       "      <td>0.017194</td>\n",
       "      <td>0.013196</td>\n",
       "      <td>0.010627</td>\n",
       "      <td>0.006981</td>\n",
       "    </tr>\n",
       "    <tr>\n",
       "      <th>9</th>\n",
       "      <td>9</td>\n",
       "      <td>0.002203</td>\n",
       "      <td>0.004736</td>\n",
       "      <td>0.006523</td>\n",
       "      <td>0.008407</td>\n",
       "      <td>0.010600</td>\n",
       "      <td>0.012723</td>\n",
       "      <td>0.014846</td>\n",
       "      <td>0.017098</td>\n",
       "      <td>0.019845</td>\n",
       "      <td>...</td>\n",
       "      <td>0.018313</td>\n",
       "      <td>0.018313</td>\n",
       "      <td>0.018313</td>\n",
       "      <td>0.018312</td>\n",
       "      <td>0.017233</td>\n",
       "      <td>0.011887</td>\n",
       "      <td>0.008569</td>\n",
       "      <td>0.005931</td>\n",
       "      <td>0.004723</td>\n",
       "      <td>0.002773</td>\n",
       "    </tr>\n",
       "    <tr>\n",
       "      <th>10</th>\n",
       "      <td>10</td>\n",
       "      <td>0.002133</td>\n",
       "      <td>0.004526</td>\n",
       "      <td>0.005733</td>\n",
       "      <td>0.008207</td>\n",
       "      <td>0.011628</td>\n",
       "      <td>0.016637</td>\n",
       "      <td>0.022489</td>\n",
       "      <td>0.027923</td>\n",
       "      <td>0.033280</td>\n",
       "      <td>...</td>\n",
       "      <td>0.039221</td>\n",
       "      <td>0.039221</td>\n",
       "      <td>0.039207</td>\n",
       "      <td>0.038973</td>\n",
       "      <td>0.037645</td>\n",
       "      <td>0.035345</td>\n",
       "      <td>0.029344</td>\n",
       "      <td>0.023316</td>\n",
       "      <td>0.018028</td>\n",
       "      <td>0.011952</td>\n",
       "    </tr>\n",
       "    <tr>\n",
       "      <th>11</th>\n",
       "      <td>11</td>\n",
       "      <td>0.002134</td>\n",
       "      <td>0.004639</td>\n",
       "      <td>0.006956</td>\n",
       "      <td>0.008700</td>\n",
       "      <td>0.010727</td>\n",
       "      <td>0.012720</td>\n",
       "      <td>0.014640</td>\n",
       "      <td>0.016527</td>\n",
       "      <td>0.018787</td>\n",
       "      <td>...</td>\n",
       "      <td>0.016340</td>\n",
       "      <td>0.016340</td>\n",
       "      <td>0.016340</td>\n",
       "      <td>0.016336</td>\n",
       "      <td>0.015531</td>\n",
       "      <td>0.010394</td>\n",
       "      <td>0.007184</td>\n",
       "      <td>0.006315</td>\n",
       "      <td>0.005393</td>\n",
       "      <td>0.003805</td>\n",
       "    </tr>\n",
       "    <tr>\n",
       "      <th>12</th>\n",
       "      <td>12</td>\n",
       "      <td>0.001139</td>\n",
       "      <td>0.002403</td>\n",
       "      <td>0.003640</td>\n",
       "      <td>0.004935</td>\n",
       "      <td>0.006296</td>\n",
       "      <td>0.007784</td>\n",
       "      <td>0.009355</td>\n",
       "      <td>0.011016</td>\n",
       "      <td>0.012878</td>\n",
       "      <td>...</td>\n",
       "      <td>0.012783</td>\n",
       "      <td>0.012783</td>\n",
       "      <td>0.012783</td>\n",
       "      <td>0.012783</td>\n",
       "      <td>0.012752</td>\n",
       "      <td>0.009566</td>\n",
       "      <td>0.006836</td>\n",
       "      <td>0.004578</td>\n",
       "      <td>0.002513</td>\n",
       "      <td>0.000507</td>\n",
       "    </tr>\n",
       "    <tr>\n",
       "      <th>13</th>\n",
       "      <td>13</td>\n",
       "      <td>0.001286</td>\n",
       "      <td>0.002686</td>\n",
       "      <td>0.004049</td>\n",
       "      <td>0.005487</td>\n",
       "      <td>0.006987</td>\n",
       "      <td>0.008607</td>\n",
       "      <td>0.010312</td>\n",
       "      <td>0.012162</td>\n",
       "      <td>0.014249</td>\n",
       "      <td>...</td>\n",
       "      <td>0.013936</td>\n",
       "      <td>0.014022</td>\n",
       "      <td>0.014022</td>\n",
       "      <td>0.014022</td>\n",
       "      <td>0.014022</td>\n",
       "      <td>0.010350</td>\n",
       "      <td>0.007296</td>\n",
       "      <td>0.004764</td>\n",
       "      <td>0.002570</td>\n",
       "      <td>0.000719</td>\n",
       "    </tr>\n",
       "    <tr>\n",
       "      <th>14</th>\n",
       "      <td>14</td>\n",
       "      <td>0.002438</td>\n",
       "      <td>0.005268</td>\n",
       "      <td>0.008011</td>\n",
       "      <td>0.010691</td>\n",
       "      <td>0.012779</td>\n",
       "      <td>0.015170</td>\n",
       "      <td>0.017713</td>\n",
       "      <td>0.020392</td>\n",
       "      <td>0.022916</td>\n",
       "      <td>...</td>\n",
       "      <td>0.022501</td>\n",
       "      <td>0.022501</td>\n",
       "      <td>0.022501</td>\n",
       "      <td>0.022498</td>\n",
       "      <td>0.020996</td>\n",
       "      <td>0.015160</td>\n",
       "      <td>0.010007</td>\n",
       "      <td>0.007049</td>\n",
       "      <td>0.005103</td>\n",
       "      <td>0.003204</td>\n",
       "    </tr>\n",
       "  </tbody>\n",
       "</table>\n",
       "<p>15 rows × 29 columns</p>\n",
       "</div>"
      ],
      "text/plain": [
       "    Unnamed: 0      30.0      60.0      90.0     120.0     150.0     180.0  \\\n",
       "0            0  0.001180  0.002475  0.003732  0.005067  0.006474  0.008011   \n",
       "1            1  0.001930  0.003637  0.005577  0.007839  0.010149  0.012145   \n",
       "2            2  0.002063  0.004446  0.005905  0.008399  0.011094  0.014704   \n",
       "3            3  0.001014  0.002155  0.003261  0.004427  0.005666  0.007017   \n",
       "4            4  0.001603  0.003355  0.004735  0.006537  0.008299  0.010049   \n",
       "5            5  0.001246  0.002651  0.003933  0.005278  0.006713  0.008212   \n",
       "6            6  0.001117  0.002365  0.003574  0.004839  0.006160  0.007593   \n",
       "7            7  0.001674  0.003608  0.005354  0.006855  0.008399  0.010020   \n",
       "8            8  0.001970  0.003875  0.005889  0.008196  0.010734  0.013626   \n",
       "9            9  0.002203  0.004736  0.006523  0.008407  0.010600  0.012723   \n",
       "10          10  0.002133  0.004526  0.005733  0.008207  0.011628  0.016637   \n",
       "11          11  0.002134  0.004639  0.006956  0.008700  0.010727  0.012720   \n",
       "12          12  0.001139  0.002403  0.003640  0.004935  0.006296  0.007784   \n",
       "13          13  0.001286  0.002686  0.004049  0.005487  0.006987  0.008607   \n",
       "14          14  0.002438  0.005268  0.008011  0.010691  0.012779  0.015170   \n",
       "\n",
       "       210.0     240.0     270.0  ...    1230.0    1830.0    2430.0    3030.0  \\\n",
       "0   0.009634  0.011360  0.013311  ...  0.013199  0.013203  0.013203  0.013203   \n",
       "1   0.014266  0.016946  0.019981  ...  0.020641  0.020558  0.020526  0.020388   \n",
       "2   0.018717  0.022571  0.027053  ...  0.031012  0.030823  0.030760  0.030625   \n",
       "3   0.008467  0.010001  0.011696  ...  0.011872  0.011867  0.011866  0.011864   \n",
       "4   0.011753  0.013585  0.015749  ...  0.015484  0.015484  0.015484  0.015477   \n",
       "5   0.009779  0.011456  0.013281  ...  0.012931  0.012925  0.012925  0.012918   \n",
       "6   0.009112  0.010715  0.012475  ...  0.012366  0.012366  0.012366  0.012366   \n",
       "7   0.011622  0.013322  0.015162  ...  0.013911  0.013911  0.013911  0.013906   \n",
       "8   0.016457  0.019658  0.023245  ...  0.026342  0.026230  0.026190  0.026116   \n",
       "9   0.014846  0.017098  0.019845  ...  0.018313  0.018313  0.018313  0.018312   \n",
       "10  0.022489  0.027923  0.033280  ...  0.039221  0.039221  0.039207  0.038973   \n",
       "11  0.014640  0.016527  0.018787  ...  0.016340  0.016340  0.016340  0.016336   \n",
       "12  0.009355  0.011016  0.012878  ...  0.012783  0.012783  0.012783  0.012783   \n",
       "13  0.010312  0.012162  0.014249  ...  0.013936  0.014022  0.014022  0.014022   \n",
       "14  0.017713  0.020392  0.022916  ...  0.022501  0.022501  0.022501  0.022498   \n",
       "\n",
       "      3630.0    3690.0    3750.0    3810.0    3870.0    3930.0  \n",
       "0   0.013203  0.009838  0.006967  0.004522  0.002332  0.000241  \n",
       "1   0.019448  0.017265  0.012739  0.010615  0.008349  0.006868  \n",
       "2   0.029277  0.026447  0.021385  0.016768  0.012894  0.008753  \n",
       "3   0.011603  0.009033  0.006666  0.004653  0.002842  0.001199  \n",
       "4   0.014821  0.010872  0.007893  0.005665  0.004545  0.002371  \n",
       "5   0.012547  0.009438  0.007129  0.005580  0.004066  0.002679  \n",
       "6   0.012249  0.009287  0.006680  0.004468  0.002442  0.000516  \n",
       "7   0.013324  0.009488  0.007518  0.006469  0.005394  0.004007  \n",
       "8   0.024953  0.020883  0.017194  0.013196  0.010627  0.006981  \n",
       "9   0.017233  0.011887  0.008569  0.005931  0.004723  0.002773  \n",
       "10  0.037645  0.035345  0.029344  0.023316  0.018028  0.011952  \n",
       "11  0.015531  0.010394  0.007184  0.006315  0.005393  0.003805  \n",
       "12  0.012752  0.009566  0.006836  0.004578  0.002513  0.000507  \n",
       "13  0.014022  0.010350  0.007296  0.004764  0.002570  0.000719  \n",
       "14  0.020996  0.015160  0.010007  0.007049  0.005103  0.003204  \n",
       "\n",
       "[15 rows x 29 columns]"
      ]
     },
     "execution_count": 17,
     "metadata": {},
     "output_type": "execute_result"
    }
   ],
   "source": [
    "dg = pd.read_csv(\"repres_classe_15.csv\")\n",
    "dg"
   ]
  },
  {
   "cell_type": "markdown",
   "id": "03704694",
   "metadata": {},
   "source": [
    "Ecrivons une fonction qui prend en entrée un modèle (qui représente une famille) et renvoie son métamodèle."
   ]
  },
  {
   "cell_type": "markdown",
   "id": "0539dece",
   "metadata": {},
   "source": [
    "Je ne suis pas sûr de connaître la forme des données, mais si ce sont des tableaux (et je pense que c'est le cas...) :"
   ]
  },
  {
   "cell_type": "code",
   "execution_count": 18,
   "id": "bf78db5c",
   "metadata": {},
   "outputs": [],
   "source": [
    "def metamodele(sampleX, sampleY):\n",
    "    # Mise en forme\n",
    "    sampleX = sampleX.reshape((len(sampleX),1))\n",
    "    sampleY = sampleY.to_numpy()\n",
    "    sampleY = sampleY.reshape((len(sampleY),1))\n",
    "    # Création de l'algorithme\n",
    "    basis = ot.ConstantBasisFactory(dimension).build()\n",
    "    covarianceModel = ot.SquaredExponential([1.0])\n",
    "    covarianceModel.setActiveParameter([])\n",
    "    algo = ot.KrigingAlgorithm(sampleX, sampleY, covarianceModel, basis)\n",
    "    algo.run()\n",
    "    # Obtention du métamodèle\n",
    "    result = algo.getResult()\n",
    "    return result.getMetaModel()"
   ]
  },
  {
   "cell_type": "markdown",
   "id": "e2bd88fc",
   "metadata": {},
   "source": [
    "On passe directement au tracé."
   ]
  },
  {
   "cell_type": "code",
   "execution_count": 19,
   "id": "b85851fd",
   "metadata": {},
   "outputs": [],
   "source": [
    "def tracer(x_test, y_test):\n",
    "    \n",
    "    x_test = x_test.reshape((len(x_test),1))\n",
    "    y_test = y_test.to_numpy()\n",
    "    y_test = y_test.reshape((len(y_test),1))\n",
    "    \n",
    "    dimension = 1\n",
    "    basis = ot.ConstantBasisFactory(dimension).build()\n",
    "    covarianceModel = ot.MaternModel([1.]*dimension, 1.5)\n",
    "    algo = ot.KrigingAlgorithm(x_test, y_test, covarianceModel, basis)\n",
    "    algo.run()\n",
    "    krigingResult = algo.getResult()\n",
    "    \n",
    "    krigeageMM = krigingResult.getMetaModel()\n",
    "    y_test_MM = krigeageMM(x_test)\n",
    "    \n",
    "    graph = ot.Graph()\n",
    "    graph.add(plot_data_test(x_test,y_test))\n",
    "    graph.add(plot_data_train(x_test,y_test))\n",
    "    graph.add(plot_data_kriging(x_test,y_test_MM))\n",
    "    graph.setAxes(True)\n",
    "    graph.setXTitle(\"time\")\n",
    "    graph.setYTitle(\"epsilon\")\n",
    "    graph.setLegendPosition(\"topright\")\n",
    "    view = viewer.View(graph)"
   ]
  },
  {
   "cell_type": "markdown",
   "id": "a2520a38",
   "metadata": {},
   "source": [
    "Construisons le tableau des temps (sampleX)."
   ]
  },
  {
   "cell_type": "code",
   "execution_count": 20,
   "id": "7a460008",
   "metadata": {
    "scrolled": true
   },
   "outputs": [
    {
     "data": {
      "text/plain": [
       "array([  30.,   60.,   90.,  120.,  150.,  180.,  210.,  240.,  270.,\n",
       "        300.,  400.,  500.,  600.,  606.,  612.,  618.,  624.,  630.,\n",
       "       1230., 1830., 2430., 3030., 3630., 3690., 3750., 3810., 3870.,\n",
       "       3930.])"
      ]
     },
     "execution_count": 20,
     "metadata": {},
     "output_type": "execute_result"
    }
   ],
   "source": [
    "sampleX = np.array(df.columns[1:], dtype = float)\n",
    "sampleX"
   ]
  },
  {
   "cell_type": "markdown",
   "id": "3ffb60bc",
   "metadata": {},
   "source": [
    "Traçons chaque métamodèle pour chaque courbe. Commençons par la première."
   ]
  },
  {
   "cell_type": "code",
   "execution_count": 21,
   "id": "2e2ebed7",
   "metadata": {
    "scrolled": true
   },
   "outputs": [
    {
     "data": {
      "image/png": "[encoded data removed]",
      "text/plain": [
       "<Figure size 640x480 with 1 Axes>"
      ]
     },
     "metadata": {},
     "output_type": "display_data"
    }
   ],
   "source": [
    "#Choix de la famille\n",
    "famille = 6\n",
    "\n",
    "#Tracé\n",
    "sampleY = df.iloc[famille,1:]\n",
    "meta = metamodele(sampleX, sampleY)\n",
    "tracer(sampleX, sampleY)"
   ]
  },
  {
   "cell_type": "markdown",
   "id": "7e1d4216",
   "metadata": {},
   "source": [
    "## Autre test parce qu'on n'est jamais trop prudent"
   ]
  },
  {
   "cell_type": "markdown",
   "id": "6d8d016f",
   "metadata": {},
   "source": [
    "On va créer un métamodèle de la fonction logarithme népérien."
   ]
  },
  {
   "cell_type": "code",
   "execution_count": 22,
   "id": "e1231016",
   "metadata": {},
   "outputs": [],
   "source": [
    "f = np.log\n",
    "X_test = np.linspace(0.0001,5.,100)       # Test : on teste le krigeage avec (donc pas de ploat)\n",
    "X_test = X_test.reshape((100,1))\n",
    "Y_test = f(X_test)"
   ]
  },
  {
   "cell_type": "code",
   "execution_count": 23,
   "id": "e3d4bdb3",
   "metadata": {},
   "outputs": [],
   "source": [
    "X_train = 5*np.random.random((len(X_test),1))  # Train : on ploat le krigeage avec\n",
    "Y_train = f(X_train)\n",
    "#N_train = X_train.getSize()"
   ]
  },
  {
   "cell_type": "code",
   "execution_count": 28,
   "id": "7b7ca1c3",
   "metadata": {},
   "outputs": [],
   "source": [
    "xmin = 0.0001\n",
    "xmax = 5.\n",
    "N_test = 100\n",
    "step = (xmax-xmin)/(N_test-1)\n",
    "myRegularGrid = ot.RegularGrid(xmin, step, N_test)"
   ]
  },
  {
   "cell_type": "code",
   "execution_count": 26,
   "id": "a68d1301",
   "metadata": {},
   "outputs": [
    {
     "data": {
      "image/png": "[encoded data removed]",
      "text/plain": [
       "<Figure size 640x480 with 1 Axes>"
      ]
     },
     "metadata": {},
     "output_type": "display_data"
    }
   ],
   "source": [
    "dimension = 1\n",
    "basis = ot.ConstantBasisFactory(dimension).build()\n",
    "covarianceModel = ot.MaternModel([1.]*dimension, 1.5)\n",
    "algo = ot.KrigingAlgorithm(X_train, Y_train, covarianceModel, basis)\n",
    "algo.run()\n",
    "krigingResult = algo.getResult()\n",
    "    \n",
    "krigeageMM = krigingResult.getMetaModel()\n",
    "Y_test_MM = krigeageMM(X_test)\n",
    "\n",
    "graph = ot.Graph()\n",
    "graph.add(plot_data_test(X_test,Y_test))\n",
    "graph.add(plot_data_train(X_train,Y_train))\n",
    "graph.add(plot_data_kriging(X_test,Y_test_MM))\n",
    "graph.setAxes(True)\n",
    "graph.setXTitle(\"X\")\n",
    "graph.setYTitle(\"ln(X)\")\n",
    "graph.setLegendPosition(\"topright\")\n",
    "view = viewer.View(graph)"
   ]
  },
  {
   "cell_type": "code",
   "execution_count": null,
   "id": "0b27f864",
   "metadata": {},
   "outputs": [],
   "source": []
  }
 ],
 "metadata": {
  "kernelspec": {
   "display_name": "Python 3 (ipykernel)",
   "language": "python",
   "name": "python3"
  },
  "language_info": {
   "codemirror_mode": {
    "name": "ipython",
    "version": 3
   },
   "file_extension": ".py",
   "mimetype": "text/x-python",
   "name": "python",
   "nbconvert_exporter": "python",
   "pygments_lexer": "ipython3",
   "version": "3.9.12"
  }
 },
 "nbformat": 4,
 "nbformat_minor": 5
}
